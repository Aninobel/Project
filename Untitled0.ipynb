{
  "nbformat": 4,
  "nbformat_minor": 0,
  "metadata": {
    "colab": {
      "name": "Untitled0.ipynb",
      "provenance": [],
      "collapsed_sections": [],
      "include_colab_link": true
    },
    "kernelspec": {
      "name": "python3",
      "display_name": "Python 3"
    }
  },
  "cells": [
    {
      "cell_type": "markdown",
      "metadata": {
        "id": "view-in-github",
        "colab_type": "text"
      },
      "source": [
        "<a href=\"https://colab.research.google.com/github/Aninobel/Project/blob/master/Untitled0.ipynb\" target=\"_parent\"><img src=\"https://colab.research.google.com/assets/colab-badge.svg\" alt=\"Open In Colab\"/></a>"
      ]
    },
    {
      "cell_type": "code",
      "metadata": {
        "id": "jVonp-muhfCD",
        "colab_type": "code",
        "colab": {}
      },
      "source": [
        ""
      ],
      "execution_count": 0,
      "outputs": []
    },
    {
      "cell_type": "markdown",
      "metadata": {
        "id": "Z79hxQWEhjRE",
        "colab_type": "text"
      },
      "source": [
        "# Understanding Ferroelastic Switching in Ferroelectrics using Machine Learning Models\n",
        "Joshua C Agar <sup>1,2,3*</sup>, Ani Chari <sup>3</sup>\n",
        "\n",
        "<sup>1</sup> \tDepartment of Materials Science and Engineering, University of California, Berkeley, Berkeley, CA 94720, USA  \n",
        "<sup>2</sup> \tMaterials Sciences Division, Lawrence Berkeley National Laboratory, Berkeley, CA 94720, USA  \n",
        "<sup>3</sup> \tDepartment of Materials Science and Engineering, Lehigh University, Bethlehem, PA 18015, USA\n",
        "\n"
      ]
    },
    {
      "cell_type": "markdown",
      "metadata": {
        "id": "kGgEF1rrjXSZ",
        "colab_type": "text"
      },
      "source": [
        "# **Abstract (text)**\n",
        "\n",
        "It is important to understand the structure of domains and domain walls in ferroelectric materials and how they respond to an applied field, in order to realize many applications such as next-generation devices. The domain walls usually consist of domains in which the magnetic moment gradually changes by an angle of 90° or 180°, as we move from one domain to the next one. Such domain walls are called 90° and 180° domain walls. The control of 180° ferroelectric domain walls by applying an electric field has been successfully proved but similar control of ferroelastic domain walls is under study. The experimental work involved uses a combination of strain and compositional gradients in order to reversibly control the ferroelastic domains in Lead-Zirconium Titanate. Additionally, machine learning models such as Principle Component Analysis have been applied to the piezoelectric response loop voltage data for Lead-Zirconium Titanate in order to visualize and understand patterns between the various features in the data set such as Phase, Amplitude, Resonance Frequency, and the quality factor of cantilever resonance."
      ]
    },
    {
      "cell_type": "markdown",
      "metadata": {
        "id": "zQZoTfZyjqaz",
        "colab_type": "text"
      },
      "source": [
        "# **Introduction (Text)**"
      ]
    },
    {
      "cell_type": "code",
      "metadata": {
        "id": "Ox9nBKO7mS9K",
        "colab_type": "code",
        "colab": {}
      },
      "source": [
        "import matplotlib.pyplot as plt\n",
        "import h5py\n",
        "import numpy as np\n",
        "import input_output as io\n",
        "import seaborn as sns\n",
        "import codes.analysis.rnn as rnn\n",
        "import codes.util as util\n",
        "import codes.analysis.machine_learning as ml\n",
        "import codes.analysis as an\n",
        "import codes.processing as p\n",
        "import codes.viz as viz\n",
        "import codes.util.input_output as io_transfer\n",
        "plt.style.use('seaborn-white')\n",
        "viz.format.custom_plt_format\n",
        "from IPython.display import IFrame, HTML\n",
        "from graphviz import Graph"
      ],
      "execution_count": 0,
      "outputs": []
    },
    {
      "cell_type": "code",
      "metadata": {
        "id": "EBIa5XQrmfLO",
        "colab_type": "code",
        "colab": {}
      },
      "source": [
        "download_data = True\n",
        "\n",
        "url = 'https://zenodo.org/record/3407773/files/Data_Zip.zip?download=1'\n",
        "filename = 'Data_Zip.zip'\n",
        "save_path = './'\n",
        "\n",
        "io_transfer.download_and_unzip(filename, url, save_path, download_data)\n",
        "\n",
        "#DOWNLOADING THE FULLY TRAINED MODELS\n",
        "url = 'https://zenodo.org/record/1482091/files/Trained_models.zip?download=1'\n",
        "filename = 'train_model_zip.zip'\n",
        "save_path = './Trained Models/'\n",
        "io_transfer.download_and_unzip(filename, url, save_path, download_data)"
      ],
      "execution_count": 0,
      "outputs": []
    },
    {
      "cell_type": "code",
      "metadata": {
        "id": "Nn45MXpUmoJL",
        "colab_type": "code",
        "colab": {}
      },
      "source": [
        "#EXPORTING FIGURE SETTINGS\n",
        "printing = {  # exports eps vector graphics (note these files can be large)\n",
        "    'EPS': False,\n",
        "    # exports png files\n",
        "    'PNG': False,\n",
        "    # prints image series (note this can take some time)\n",
        "    'all_figures': False,\n",
        "    # generates movies (note this can take some time)\n",
        "    'movies': False,\n",
        "    # resolution of the images\n",
        "    'dpi': 300}\n",
        "    # DEFINING PLOTTING FORMAT\n",
        "plot_format = {\n",
        "    # adds scalebar to image\n",
        "    'add_scalebar': True,\n",
        "    # sets the dimensions for the scalebar [(size of image),(size of scalebar)]\n",
        "    'scalebar': [2000, 500],\n",
        "    # selects if the image will be rotated\n",
        "    'rotation': True,\n",
        "    # selects the rotation angle of the image\n",
        "    'angle': 60.46,\n",
        "    # sets the fraction of the image to crop\n",
        "    'frac_rm': 0.17765042979942694,\n",
        "    # sets the resolution of the image\n",
        "    'dpi': 300,\n",
        "    # sets the default colormap\n",
        "    'color_map': 'viridis',\n",
        "    # sets if color bars should be added\n",
        "    'color_bars': True}\n",
        "#DEFINING A FOLDER STRUCTURE TO SAVE FILES\n",
        "folder_structure = util.file.make_folder(\n",
        "    './structure')\n",
        "folder_BE = util.file.make_folder(\n",
        "    './Band_Excitation')\n",
        "folder_BE_Movie_files = util.file.make_folder(\n",
        "    folder_BE + '/BE_Movie_Files')\n",
        "folder_BE_all_images = util.file.make_folder(\n",
        "    folder_BE + '/BE_all_images')\n",
        "folder_BE_spectra = util.file.make_folder(\n",
        "    folder_BE + '/BE_spectra')\n",
        "folder_BE_cleaned_spectra = util.file.make_folder(\n",
        "    folder_BE + '/cleaned_spectra')\n",
        "folder_pca = util.file.make_folder(\n",
        "    './pca')\n",
        "folder_nmf = util.file.make_folder(\n",
        "    './nmf')\n",
        "folder_clustering = util.file.make_folder('./clustering')\n",
        "folder_pca_clustering = util.file.make_folder(\n",
        "    './pca_clustering')\n",
        "folder_piezoresponse_autoencoder = util.file.make_folder(\n",
        "    './piezoresponse_autoencoder')\n",
        "folder_resonance_autoencoder = util.file.make_folder(\n",
        "    './resonance_autoencoder')\n",
        "folder_piezoresponse_autoencoder_movie = util.file.make_folder(\n",
        "    folder_piezoresponse_autoencoder + '/movie')\n",
        "folder_piezoresponse_autoencoder_training_movie = util.file.make_folder(\n",
        "    folder_piezoresponse_autoencoder + '/training_movie')\n",
        "folder_resonance_autoencoder_movie = util.file.make_folder(\n",
        "    folder_resonance_autoencoder + '/movie')\n",
        "folder_resonance_autoencoder_training_movie = util.file.make_folder(\n",
        "    folder_resonance_autoencoder + '/training_movie')\n",
        "folder_phase_field = util.file.make_folder(\n",
        "    './Phase_Field')\n",
        "##\n",
        "\n",
        "\n",
        "signal_info = {'voltage': dict(\n",
        "    symbol='voltage',\n",
        "    format_str='%3.d',\n",
        "    units='Voltage (V)',\n",
        "    y_lim=None,\n",
        "    x_tick=np.linspace(-15, 15, 7),\n",
        "    pca_range=None),\n",
        "    'amplitude': dict(\n",
        "    symbol='A',\n",
        "    format_str='%.0e',\n",
        "    units='Amplitude (Arb. U.)',\n",
        "    y_lim=None,\n",
        "    y_tick=[],\n",
        "    pca_range=None),\n",
        "    'phase': dict(\n",
        "    symbol='Phi',\n",
        "    format_str='%3.d',\n",
        "    units='Phase (${^\\circ}$)',\n",
        "    y_lim=[-110, 110],\n",
        "    y_tick=np.linspace(-90, 90, 5),\n",
        "    pca_range=None),\n",
        "    'resonance': dict(\n",
        "    symbol='w',\n",
        "    format_str='%3.d',\n",
        "    units='Resonance (kHz)',\n",
        "    y_lim=[1326, 1329],\n",
        "    y_tick=np.linspace(1320, 1329, 4),\n",
        "    pca_range=None),\n",
        "    'quality_factor': dict(\n",
        "    symbol='Q',\n",
        "    format_str='%3.f',\n",
        "    units='Quality Factor (Arb. U.)',\n",
        "    y_lim=[210, 310],\n",
        "    y_tick=np.linspace(215, 310, 5),\n",
        "    pca_range=None),\n",
        "    'piezoresponse': dict(\n",
        "    symbol='Piezoresponse',\n",
        "    format_str='%.0e',\n",
        "    units='Piezoresponse (Arb. U.)',\n",
        "    y_lim=None,\n",
        "    y_tick=[],\n",
        "    pca_range=[-0.29, .29])\n",
        "}\n"
      ],
      "execution_count": 0,
      "outputs": []
    },
    {
      "cell_type": "code",
      "metadata": {
        "id": "9h3XAVKVmv8j",
        "colab_type": "code",
        "colab": {}
      },
      "source": [
        "data = h5py.File('20_80_PZT/20_80_SHO fits.mat', 'r')\n",
        "def print_attrs(name, obj):\n",
        "    print(name)\n",
        "    for key, val in obj.attrs.items():\n",
        "        print(key)\n",
        "data.visititems(print_attrs)\n",
        "data['Data']['outoffield_2']['Q'].shape"
      ],
      "execution_count": 0,
      "outputs": []
    },
    {
      "cell_type": "code",
      "metadata": {
        "id": "Q21zsjZPm2o6",
        "colab_type": "code",
        "colab": {}
      },
      "source": [
        "data = h5py.File('20_80_PZT/20_80_loop_fits.mat', 'r')\n",
        "voltage = data.get(data['alldata2'][0][8]).value\n",
        "loop_data_2080 = data.get(data['unfolddata'][1][0]).value\n",
        "plt.plot(voltage[0],loop_data_2080.squeeze()[:,0,12])\n",
        "loop_data_2080 = np.reshape(loop_data_2080,(2500,64),order='C')\n",
        "print(loop_data_2080)\n",
        "loop_data_2080 = np.rollaxis(loop_data_2080,1,0)\n",
        "#  Removing all NaN values in the data\n",
        "loop_data_2080 = np.nan_to_num(loop_data_2080)"
      ],
      "execution_count": 0,
      "outputs": []
    }
  ]
}